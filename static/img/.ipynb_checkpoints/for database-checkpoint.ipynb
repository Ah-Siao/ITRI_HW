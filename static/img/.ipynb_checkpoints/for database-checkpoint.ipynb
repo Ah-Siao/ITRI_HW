{
 "cells": [
  {
   "cell_type": "code",
   "execution_count": 9,
   "id": "9a862ef3",
   "metadata": {},
   "outputs": [
    {
     "data": {
      "text/plain": [
       "'C:\\\\AI_course_project\\\\Group2_project\\\\static\\\\img\\\\dessert'"
      ]
     },
     "execution_count": 9,
     "metadata": {},
     "output_type": "execute_result"
    }
   ],
   "source": [
    "import os\n",
    "os.getcwd()"
   ]
  },
  {
   "cell_type": "code",
   "execution_count": null,
   "id": "48ba0b76",
   "metadata": {},
   "outputs": [],
   "source": []
  },
  {
   "cell_type": "code",
   "execution_count": 19,
   "id": "6d80c15a",
   "metadata": {},
   "outputs": [
    {
     "name": "stdout",
     "output_type": "stream",
     "text": [
      "元本山味付海苔\n",
      "核桃杏香酥\n",
      "金獎鳳黃酥\n",
      "安心豚海苔芝麻肉酥 200克\n",
      "安心豚葵花油肉酥 200克\n",
      "安心豚紅麴肉酥 200克\n",
      "烏沙蛋黃酥\n",
      "野菽家營養棒-蔓越莓\n",
      "野菽家營養棒-海苔藜麥\n",
      "野菽家營養棒-蜂蜜檸檬\n",
      "素媽媽-BBQ香烤肉片\n",
      "素媽媽-川味朝天椒香烤肉片\n",
      "素媽媽-黑胡椒香烤肉片\n"
     ]
    }
   ],
   "source": [
    "#點心 (cat:2)\n",
    "dessert=os.listdir('C:\\\\AI_course_project\\\\Group2_project\\\\static\\\\img\\\\dessert')\n",
    "for i in dessert:\n",
    "    print(i.split('_')[1])"
   ]
  },
  {
   "cell_type": "code",
   "execution_count": null,
   "id": "37115b50",
   "metadata": {},
   "outputs": [],
   "source": []
  },
  {
   "cell_type": "code",
   "execution_count": 14,
   "id": "93335a54",
   "metadata": {},
   "outputs": [
    {
     "name": "stdout",
     "output_type": "stream",
     "text": [
      "咖啡因洗髮精\n",
      "茶花控油洗髮精\n",
      "竹萃保濕護髮素\n",
      "歐萊德保濕護髮素(木蘭香)\n",
      "桃花輕盈沐浴乳\n",
      "茶樹洗手乳\n",
      "淨毒五郎蔬果清潔劑(400ml)\n",
      "淨毒五郎蔬果清潔劑補充瓶(1000ml)\n",
      "橘子工坊五合一洗衣金球\n",
      "泡舒植物強效洗潔精965ml(1000g)\n",
      "泡舒植物強效洗潔精4.83L(5000g)\n",
      "蒲公英環保抽取式衛生紙\n",
      "蒲公英環保抽取式擦手紙巾\n",
      "春風抽取式衛生紙\n"
     ]
    }
   ],
   "source": [
    "#日用生活 (cat:1)\n",
    "living=os.listdir('C:\\\\AI_course_project\\\\Group2_project\\\\static\\\\img\\\\living')\n",
    "for i in living:\n",
    "    print(i.split('_')[1])"
   ]
  },
  {
   "cell_type": "code",
   "execution_count": 18,
   "id": "c5808107",
   "metadata": {},
   "outputs": [
    {
     "name": "stdout",
     "output_type": "stream",
     "text": [
      "行健有機糙米(600g)，品種高雄145\n",
      "行健有機白米(2kg)，品種秈22\n",
      "行健有機糙米(2kg)，品種高雄145\n",
      "香豬油王-調合豬油\n",
      "紅龍牌日正粉絲(3kg)\n",
      "1200g 合進拉麵の味關廟麵\n",
      "1000g 合進麵線の味關廟麵\n",
      "6000g 合進營養麵條關廟麵\n",
      "統一麵肉燥風味特大號(85g)\n",
      "安心豚梅花肉片200公克\n",
      "安心豚里肌火鍋肉片200公克\n",
      "安心豚白玉五花肉片200公克\n",
      "安心豚原味貢丸 360克\n",
      "安心豚香菇貢丸 360克\n",
      "紐西蘭天然無水奶油10KG\n",
      "紐西蘭天然無水奶油900G\n",
      "石安牧場動福蛋\n",
      "大豆沙拉油(1L)\n",
      "大豆沙拉油(18kg)\n",
      "幸福牧場放山人道雞蛋\n",
      "幸福牧場放山人道雞蛋\n",
      "福壽100％芝麻油\n",
      "大豆沙拉油(0.6L)\n",
      "大豆沙拉油(2L)\n",
      "大豆沙拉油(2.6 L)\n"
     ]
    }
   ],
   "source": [
    "#民生食材(cat:3)\n",
    "staple=os.listdir('C:\\\\AI_course_project\\\\Group2_project\\\\static\\\\img\\\\staple')\n",
    "for i in staple:\n",
    "    print(i.split('_')[1])\n",
    "    "
   ]
  },
  {
   "cell_type": "code",
   "execution_count": 20,
   "id": "4864ec32",
   "metadata": {},
   "outputs": [
    {
     "name": "stdout",
     "output_type": "stream",
     "text": [
      "麥香綠茶TP300ml\n",
      "麥香紅茶TP300ml\n",
      "麥香奶茶TP300ml\n",
      "生活運動飲料 300ml\n",
      "生活運動飲料 500ml\n",
      "生活泡沫紅茶 300ml\n",
      "生活泡沫紅茶 500ml\n",
      "生活泡沫綠茶 300ml\n",
      "生活泡沫綠茶 300ml\n",
      "生活泡沫奶茶 300ml\n",
      "0.75L-38°金門高粱酒\n",
      "悅氏礦泉水\n",
      "FMC鹼性離子水\n",
      "FMC天然水\n",
      "統一陽光陽光黃金豆豆漿\n",
      "雀巢金牌濾掛咖啡100％阿拉比卡柑橘果香\n",
      "黑松茶花綠茶\n",
      "黑松FIN補給飲料\n",
      "FMC 小分子檸檬氣泡水\n",
      "FMC 小分子氣泡水\n",
      "愛之味純濃燕麥(天然原味)\n",
      "泰山TWIST WATER環保包裝水(包裝飲用水)\n",
      "黑松沙士\n"
     ]
    }
   ],
   "source": [
    "#飲品飲酒(cat:4)\n",
    "drinks=os.listdir('C:\\\\AI_course_project\\\\Group2_project\\\\static\\\\img\\\\drinks')\n",
    "for i in drinks:\n",
    "    print(i.split('_')[1])\n",
    "    "
   ]
  },
  {
   "cell_type": "code",
   "execution_count": null,
   "id": "8f372ce0",
   "metadata": {},
   "outputs": [],
   "source": []
  }
 ],
 "metadata": {
  "kernelspec": {
   "display_name": "Python 3 (ipykernel)",
   "language": "python",
   "name": "python3"
  },
  "language_info": {
   "codemirror_mode": {
    "name": "ipython",
    "version": 3
   },
   "file_extension": ".py",
   "mimetype": "text/x-python",
   "name": "python",
   "nbconvert_exporter": "python",
   "pygments_lexer": "ipython3",
   "version": "3.9.16"
  }
 },
 "nbformat": 4,
 "nbformat_minor": 5
}
